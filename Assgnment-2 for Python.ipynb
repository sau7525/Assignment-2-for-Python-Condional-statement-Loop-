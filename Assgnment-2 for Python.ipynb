{
 "cells": [
  {
   "cell_type": "code",
   "execution_count": null,
   "id": "029ba0c6-af92-4ac7-ab91-7bd419d810aa",
   "metadata": {},
   "outputs": [],
   "source": [
    "#ANS:1"
   ]
  },
  {
   "cell_type": "code",
   "execution_count": null,
   "id": "06577582-982e-4989-89e6-ec59bae8958d",
   "metadata": {},
   "outputs": [],
   "source": [
    "marks = int(input(\"enter your marks\")) \n",
    "if marks >= 90:\n",
    "    print(\"you will get A Grade\")\n",
    "elif marks > 80 and marks <=90:\n",
    "    print(\"you will get B Grade\")\n",
    "elif marks >=60 and marks <=80:\n",
    "    print(\"you will get C Grade\")\n",
    "else :\n",
    "    print(\"you will get D Grade\")"
   ]
  },
  {
   "cell_type": "code",
   "execution_count": null,
   "id": "55558eba-560c-4543-b854-9d601a3745c8",
   "metadata": {},
   "outputs": [],
   "source": [
    "#ANS:2"
   ]
  },
  {
   "cell_type": "code",
   "execution_count": null,
   "id": "b7d5f7e7-9fb6-4e61-8df7-34d56caf0c18",
   "metadata": {},
   "outputs": [],
   "source": [
    "cp = float(input(\"enter the cost price of bile\"))\n",
    "if cp > 100000 :\n",
    "    t = 0.15\n",
    "elif cp > 50000 and cp <= 100000 :\n",
    "    t = 0.10\n",
    "elif cp <= 50000 :\n",
    "    t = 0.05\n",
    "rt = cp*t\n",
    "print(rt, \"is the road tax to be paid.\")"
   ]
  },
  {
   "cell_type": "code",
   "execution_count": 7,
   "id": "45fa211f-de61-4539-9f64-6c3ca256063e",
   "metadata": {},
   "outputs": [],
   "source": [
    "#ANS:3"
   ]
  },
  {
   "cell_type": "code",
   "execution_count": null,
   "id": "0c37001a-fb72-4b73-8ef2-7618265b2aa7",
   "metadata": {},
   "outputs": [],
   "source": [
    "city = input(\"Enter a city\")\n",
    "\n",
    "if city.upper() == \"DELHI\":\n",
    "\n",
    "   print(\"Red Fort\")\n",
    "\n",
    "elif city.upper() == \"AGRA\":\n",
    "\n",
    "   print(\"Taj Mahal\")\n",
    "\n",
    "elif city.upper() == \"JAIPUR\":\n",
    "\n",
    "   print(\"Jal Mahal\")\n",
    "\n",
    "else:\n",
    "\n",
    "   print(\"Enter a valid city\")"
   ]
  },
  {
   "cell_type": "code",
   "execution_count": null,
   "id": "0c9354be-a7da-4d0e-a7f7-cc4ed0788316",
   "metadata": {},
   "outputs": [],
   "source": [
    "#ANS:4"
   ]
  },
  {
   "cell_type": "code",
   "execution_count": 2,
   "id": "d3cb0969-59c6-4cb1-b11b-11835231ced2",
   "metadata": {},
   "outputs": [
    {
     "name": "stdout",
     "output_type": "stream",
     "text": [
      "Total iteration required 3\n"
     ]
    }
   ],
   "source": [
    "count = 0\n",
    "number = 180\n",
    "while number > 10:\n",
    "    # divide number by 3\n",
    "    number = number / 3\n",
    "    # increase count\n",
    "    count = count + 1\n",
    "print('Total iteration required', count)"
   ]
  },
  {
   "cell_type": "code",
   "execution_count": 3,
   "id": "08c01157-cef7-4851-ba99-6ef3d1371fc9",
   "metadata": {},
   "outputs": [],
   "source": [
    "#ANS:5"
   ]
  },
  {
   "cell_type": "code",
   "execution_count": null,
   "id": "7129e90a-5d2e-436c-856f-789dd7b8394b",
   "metadata": {},
   "outputs": [],
   "source": [
    "A While loop in Python allows a part of the code to be executed repeatedly as long as a given condition is true. The While loop in Python is also called a pre-tested loop. It is typically used when the number of iterations is not known.\n",
    "\n",
    "A Python While loop expression/condition consists of three parts:"
   ]
  },
  {
   "cell_type": "code",
   "execution_count": null,
   "id": "a81f1127-a992-4b0b-95e7-efc4f167809f",
   "metadata": {},
   "outputs": [],
   "source": [
    "#Python While Loop Example\n",
    "# program to display numbers from 1 to 5\n",
    "\n",
    "# initialize the variable\n",
    "i = 1\n",
    "n = 5\n",
    "\n",
    "# while loop from i = 1 to 5\n",
    "while i <= n:\n",
    "    print(i)\n",
    "    i = i + 1"
   ]
  },
  {
   "cell_type": "code",
   "execution_count": null,
   "id": "65ec0476-cde4-4420-9c17-b687235a4685",
   "metadata": {},
   "outputs": [],
   "source": [
    "#ANS:6"
   ]
  },
  {
   "cell_type": "code",
   "execution_count": null,
   "id": "5ecaba5b-933c-42fd-9364-310d886697cc",
   "metadata": {},
   "outputs": [],
   "source": [
    "#first patterns"
   ]
  },
  {
   "cell_type": "code",
   "execution_count": 3,
   "id": "f00e3e03-ffcb-43d6-a190-933ee8a0ef7d",
   "metadata": {},
   "outputs": [
    {
     "name": "stdin",
     "output_type": "stream",
     "text": [
      "Enter number of rows : 5\n"
     ]
    },
    {
     "name": "stdout",
     "output_type": "stream",
     "text": [
      "* \n",
      "* * \n",
      "* * * \n",
      "* * * * \n",
      "* * * * * \n"
     ]
    }
   ],
   "source": [
    "n = int(input(\"Enter number of rows :\"))\n",
    " \n",
    "i = 1\n",
    "while i <= n :\n",
    "    j = 1\n",
    "    while j <= i:\n",
    "        print(\"*\", end = \" \")\n",
    "        j += 1\n",
    "    print()\n",
    "    i += 1\n"
   ]
  },
  {
   "cell_type": "code",
   "execution_count": null,
   "id": "dcc7dc18-4495-462c-96cb-a13c603de686",
   "metadata": {},
   "outputs": [],
   "source": [
    "#Second patterns"
   ]
  },
  {
   "cell_type": "code",
   "execution_count": 4,
   "id": "97bb3be2-e9d0-493a-b8f7-e0d93d16224e",
   "metadata": {},
   "outputs": [
    {
     "name": "stdin",
     "output_type": "stream",
     "text": [
      "Enter number of rows :  7\n"
     ]
    },
    {
     "name": "stdout",
     "output_type": "stream",
     "text": [
      "* * * * * * * \n",
      "* * * * * * \n",
      "* * * * * \n",
      "* * * * \n",
      "* * * \n",
      "* * \n",
      "* \n"
     ]
    }
   ],
   "source": [
    "n = int(input('Enter number of rows : '))\n",
    " \n",
    "i = 1\n",
    "while i <= n :\n",
    "    j = n\n",
    "    while j >= i:\n",
    "        print(\"*\", end = \" \")\n",
    "        j -= 1\n",
    "    print()\n",
    "    i += 1"
   ]
  },
  {
   "cell_type": "code",
   "execution_count": null,
   "id": "6acee3bb-0470-44ab-b9a1-8c48e4c2db50",
   "metadata": {},
   "outputs": [],
   "source": [
    "#Third patterns"
   ]
  },
  {
   "cell_type": "code",
   "execution_count": 5,
   "id": "4399f148-aab9-4573-9d63-dabe24965493",
   "metadata": {},
   "outputs": [
    {
     "name": "stdin",
     "output_type": "stream",
     "text": [
      "Enter number of rows :  8\n"
     ]
    },
    {
     "name": "stdout",
     "output_type": "stream",
     "text": [
      "  1 \n",
      "  2   3 \n",
      "  4   5   6 \n",
      "  7   8   9  10 \n",
      " 11  12  13  14  15 \n",
      " 16  17  18  19  20  21 \n",
      " 22  23  24  25  26  27  28 \n",
      " 29  30  31  32  33  34  35  36 \n"
     ]
    }
   ],
   "source": [
    "n = int(input('Enter number of rows : '))\n",
    " \n",
    "k = 1\n",
    "i = 1\n",
    "while i <= n :\n",
    "    j = 1\n",
    "    while j <= i:\n",
    "        print(\"{:3d}\".format(k), end = \" \")\n",
    "        j += 1\n",
    "        k += 1\n",
    "    print()\n",
    "    i += 1"
   ]
  },
  {
   "cell_type": "code",
   "execution_count": null,
   "id": "74c72a68-271c-418a-a652-5f8dffac72fa",
   "metadata": {},
   "outputs": [],
   "source": [
    "#ANS:7"
   ]
  },
  {
   "cell_type": "code",
   "execution_count": 6,
   "id": "f42403fe-e148-4ac8-bb17-8d4ba301299e",
   "metadata": {},
   "outputs": [
    {
     "name": "stdout",
     "output_type": "stream",
     "text": [
      "10\n",
      "9\n",
      "8\n",
      "7\n",
      "6\n",
      "5\n",
      "4\n",
      "3\n",
      "2\n",
      "1\n"
     ]
    }
   ],
   "source": [
    "i = 10\n",
    "while i > 0:\n",
    "    print(i)\n",
    "    i = i - 1"
   ]
  },
  {
   "cell_type": "code",
   "execution_count": null,
   "id": "4b5f2841-0499-4b5c-bf44-b0b50f2a6c6c",
   "metadata": {},
   "outputs": [],
   "source": [
    "#ANS:8"
   ]
  },
  {
   "cell_type": "code",
   "execution_count": 7,
   "id": "9326b32d-4e9b-436c-a6a0-65321405432e",
   "metadata": {},
   "outputs": [
    {
     "name": "stdout",
     "output_type": "stream",
     "text": [
      "10\n",
      "9\n",
      "8\n",
      "7\n",
      "6\n",
      "5\n",
      "4\n",
      "3\n",
      "2\n",
      "1\n"
     ]
    }
   ],
   "source": [
    "i = 10\n",
    "while i > 0:\n",
    "    print(i)\n",
    "    i = i - 1"
   ]
  },
  {
   "cell_type": "code",
   "execution_count": null,
   "id": "798a00cb-ae87-4e35-bcec-f60b81890211",
   "metadata": {},
   "outputs": [],
   "source": []
  }
 ],
 "metadata": {
  "kernelspec": {
   "display_name": "Python 3 (ipykernel)",
   "language": "python",
   "name": "python3"
  },
  "language_info": {
   "codemirror_mode": {
    "name": "ipython",
    "version": 3
   },
   "file_extension": ".py",
   "mimetype": "text/x-python",
   "name": "python",
   "nbconvert_exporter": "python",
   "pygments_lexer": "ipython3",
   "version": "3.10.8"
  }
 },
 "nbformat": 4,
 "nbformat_minor": 5
}
